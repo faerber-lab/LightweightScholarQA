{
 "cells": [
  {
   "cell_type": "code",
   "execution_count": 1,
   "id": "5df7e32f-5407-4311-90c8-5a1ce19dd6f9",
   "metadata": {},
   "outputs": [],
   "source": [
    "from transformers import AutoModelForCausalLM, AutoTokenizer, \\\n",
    "                         TextIteratorStreamer, TrainingArguments, \\\n",
    "                         DataCollatorForLanguageModeling, Trainer, \\\n",
    "                         pipeline\n",
    "from datasets import load_dataset\n",
    "from peft import PeftModel, LoraConfig, TaskType, get_peft_model"
   ]
  },
  {
   "cell_type": "markdown",
   "id": "02de9fe7-aee6-4d34-b35c-00451dc9b7ef",
   "metadata": {},
   "source": [
    "### Load base model"
   ]
  },
  {
   "cell_type": "code",
   "execution_count": null,
   "id": "bbbe6bd2-465a-4328-a9fe-597f1261772d",
   "metadata": {},
   "outputs": [
    {
     "data": {
      "application/vnd.jupyter.widget-view+json": {
       "model_id": "9e75943928c445679a0a2d85ea422242",
       "version_major": 2,
       "version_minor": 0
      },
      "text/plain": [
       "Loading checkpoint shards:   0%|          | 0/2 [00:00<?, ?it/s]"
      ]
     },
     "metadata": {},
     "output_type": "display_data"
    }
   ],
   "source": [
    "model_base_name = \"Llama-3.2-3B-Instruct\"\n",
    "model_name = f\"meta-llama/{model_base_name}\"\n",
    "base_model = AutoModelForCausalLM.from_pretrained(model_name) #\"Qwen/Qwen2-0.5B-Instruct\")\n",
    "tokenizer = AutoTokenizer.from_pretrained(model_name) #\"Qwen/Qwen2-0.5B-Instruct\")  # Changed to load from fine-tuned path\n",
    "tokenizer.pad_token=tokenizer.eos_token"
   ]
  },
  {
   "cell_type": "markdown",
   "id": "433298a1-adaf-4317-83e0-cfea92d31253",
   "metadata": {},
   "source": [
    "### Create PEFT config"
   ]
  },
  {
   "cell_type": "code",
   "execution_count": null,
   "id": "5c5f4c5a-1532-49c8-b6ed-1ccf1d26bf8e",
   "metadata": {},
   "outputs": [],
   "source": [
    "peft_config = LoraConfig(task_type=TaskType.CAUSAL_LM, inference_mode=False, r=8, lora_alpha=32, lora_dropout=0.1)\n",
    "peft_model = get_peft_model(base_model, peft_config)\n",
    "\n",
    "peft_model.num_parameters()\n",
    "peft_model.print_trainable_parameters()"
   ]
  },
  {
   "cell_type": "markdown",
   "id": "22d8f99a-bcd1-4544-9521-a2d552e2bea7",
   "metadata": {},
   "source": [
    "### Training Setup"
   ]
  },
  {
   "cell_type": "code",
   "execution_count": null,
   "id": "08508955-9d25-498e-a64d-d33bfa117285",
   "metadata": {},
   "outputs": [],
   "source": [
    "target_model_path = f\"./finetuned/{model_name}-lora\"\n",
    "\n",
    "training_args = TrainingArguments(\n",
    "    output_dir=f\"{target_model_path}/\",\n",
    "    learning_rate=5e-4,\n",
    "    per_device_train_batch_size=4,\n",
    "    per_device_eval_batch_size=2,\n",
    "    num_train_epochs=10,\n",
    "    eval_strategy=\"epoch\",\n",
    "    save_strategy=\"epoch\",\n",
    "    load_best_model_at_end=True,\n",
    "    fp16=True,\n",
    "    gradient_accumulation_steps=16,\n",
    "    logging_steps=500,\n",
    "    weight_decay=0.01,\n",
    "    warmup_steps=500,\n",
    ")"
   ]
  },
  {
   "cell_type": "markdown",
   "id": "0c037243-8698-4fe9-971c-dee1fe29d67c",
   "metadata": {},
   "source": [
    "### Load Dataset"
   ]
  },
  {
   "cell_type": "code",
   "execution_count": null,
   "id": "f542c0da-00ca-417f-b43f-2a466a5a0bd6",
   "metadata": {},
   "outputs": [],
   "source": [
    "dataset = load_dataset(\"Hieu-Pham/kaggle_food_recipes\", cache_dir=\".\")\n",
    "dataset = [ str(data[\"Instructions\"]) for data in dataset[\"train\"] ]\n",
    "#print(dataset[0])\n",
    "context_length=2048\n",
    "\n",
    "dataset = tokenizer(dataset, add_special_tokens=True, truncation=True, max_length=context_length)[\"input_ids\"]\n",
    "data_collator = DataCollatorForLanguageModeling(tokenizer, mlm=False)"
   ]
  },
  {
   "cell_type": "code",
   "execution_count": null,
   "id": "fc2bf509-f6a2-401a-bee9-097f2c90c7f7",
   "metadata": {},
   "outputs": [],
   "source": [
    "trainer = Trainer(\n",
    "    model=peft_model,\n",
    "    args=training_args,\n",
    "    train_dataset=dataset,\n",
    "    eval_dataset=dataset,\n",
    "    tokenizer=tokenizer,\n",
    "    data_collator=data_collator,\n",
    "    #compute_metrics=compute_metrics,\n",
    ")\n",
    "\n",
    "trainer.train()"
   ]
  },
  {
   "cell_type": "code",
   "execution_count": null,
   "id": "a057ff1f-78cd-45df-9145-7c9bc1c33024",
   "metadata": {},
   "outputs": [],
   "source": [
    "pipe = pipeline(\"text-generation\", model=peft_model, tokenizer=tokenizer)\n",
    "max_new_tokens = 1024\n",
    "while True:\n",
    "    prompt = input(\">>> Prompt: \")\n",
    "    if prompt == \"quit\":\n",
    "        break\n",
    "    print(pipe(prompt, max_new_tokens=max_new_tokens)[0][\"generated_text\"], \"\\n\")"
   ]
  },
  {
   "cell_type": "code",
   "execution_count": null,
   "id": "cf482e76-be0c-4d8e-bd80-32108088c031",
   "metadata": {},
   "outputs": [],
   "source": []
  }
 ],
 "metadata": {
  "kernelspec": {
   "display_name": "Capella GPU Kernel LLM",
   "language": "python",
   "name": "capella_gpu_kernel_llm"
  },
  "language_info": {
   "codemirror_mode": {
    "name": "ipython",
    "version": 3
   },
   "file_extension": ".py",
   "mimetype": "text/x-python",
   "name": "python",
   "nbconvert_exporter": "python",
   "pygments_lexer": "ipython3",
   "version": "3.11.3"
  }
 },
 "nbformat": 4,
 "nbformat_minor": 5
}
