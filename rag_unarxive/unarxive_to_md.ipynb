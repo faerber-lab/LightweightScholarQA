{
 "cells": [
  {
   "cell_type": "code",
   "execution_count": 1,
   "id": "21db5fa7-58ef-4caa-b0fb-120b4ff981d1",
   "metadata": {},
   "outputs": [],
   "source": [
    "import tarfile\n",
    "import json\n",
    "import os\n",
    "import re\n",
    "\n",
    "from tqdm import tqdm\n",
    "from typing import List"
   ]
  },
  {
   "cell_type": "code",
   "execution_count": 2,
   "id": "b1f9bdd3-e6ea-4f45-b45a-2274655384fb",
   "metadata": {},
   "outputs": [],
   "source": [
    "filename = \"/data/horse/ws/s9650707-llm_secrets/datasets/unarxive/unarXive_230324_open_subset.tar.xz\"\n",
    "\n",
    "md_target_dir = \"/data/horse/ws/s9650707-llm_secrets/datasets/unarxive/md3\"\n",
    "\n",
    "MAX_FILES = None\n",
    "FILES_IN_TAR = 5599  # only used for progress bar when extracting"
   ]
  },
  {
   "cell_type": "code",
   "execution_count": 3,
   "id": "b7083380-720a-46fd-9356-0f53a801f52e",
   "metadata": {},
   "outputs": [],
   "source": [
    "\"\"\"def get_jsonl_members(filename: str, max_files: int=None):\n",
    "    tar_file = tarfile.open(filename)\n",
    "\n",
    "    jsonl_members = []\n",
    "    count = 0\n",
    "    for tar_member in tar_file:\n",
    "        jsonl_members.append(tar_file.extractfile(tar_member).read())\n",
    "        count += 1\n",
    "        if max_files is not None and count >= max_files:\n",
    "            break\n",
    "\n",
    "    return jsonl_members\n",
    "\"\"\"\n",
    "\n",
    "def get_jsonl_members(filename: str, max_files: int = None):\n",
    "    with tarfile.open(filename) as tar_file:\n",
    "        count = 0\n",
    "        for tar_member in tar_file:\n",
    "            yield tar_file.extractfile(tar_member).read()\n",
    "            count += 1\n",
    "            if max_files is not None and count >= max_files:\n",
    "                break\n",
    "\n",
    "def get_num_files_in_tar(filename: str) -> int:\n",
    "    with tarfile.open(filename) as tar_file:\n",
    "        return len(tar_file.getmembers())"
   ]
  },
  {
   "cell_type": "code",
   "execution_count": 4,
   "id": "dd91460f-c2f6-4d9a-9046-e4258b7dbae5",
   "metadata": {},
   "outputs": [],
   "source": [
    "def extract_from_json(json_string: str):\n",
    "    json_obj = json.loads(json_string)\n",
    "    return json_obj"
   ]
  },
  {
   "cell_type": "code",
   "execution_count": 5,
   "id": "38a3e4a7-3c7b-444e-8352-a35323ff2f60",
   "metadata": {},
   "outputs": [],
   "source": [
    "def strip_clean(text: str|None) -> str:\n",
    "    if text is not None:\n",
    "        return re.sub(r'\\s+', ' ', text.strip())\n",
    "    else:\n",
    "        return None\n",
    "    \n",
    "def get_abstract(json_obj) -> str:\n",
    "    return strip_clean(json_obj['abstract']['text'])\n",
    "    \n",
    "def get_title(json_obj) -> str:\n",
    "    return strip_clean(json_obj['metadata']['title'])\n",
    "\n",
    "def get_authors(json_obj) -> str:\n",
    "    return strip_clean(json_obj['metadata']['authors'])\n",
    "\n",
    "def get_journal_ref(json_obj) -> str:\n",
    "    return strip_clean(json_obj['metadata']['journal-ref'])\n",
    "    \n",
    "def get_doi(json_obj) -> str:\n",
    "    return strip_clean(json_obj['metadata']['doi'])\n",
    "\n",
    "def get_content(json_obj, replace_objects=False) -> List[str]:\n",
    "    body_text = json_obj['body_text']\n",
    "    sections = []\n",
    "\n",
    "    # references to formulas etc. are in json_obj['ref_entries']\n",
    "    #print(json_obj['ref_entries'])\n",
    "    prev_sec_name = None\n",
    "    for section in body_text:\n",
    "        #print(section.keys())\n",
    "        text = section['text']\n",
    "        #print(section['sec_number'], section['section'], section['content_type'], section['sec_type'])\n",
    "        #print(text)\n",
    "        if replace_objects and len(section['ref_spans']) >= 1:\n",
    "            for span in section['ref_spans']:\n",
    "                # we remove the references to formulas etc.\n",
    "                ref = span['ref_id']\n",
    "                reference = json_obj['ref_entries'][ref]\n",
    "                #print(span[\"text\"])\n",
    "                if reference['type'] == 'formula':\n",
    "                    text = text.replace(span['text'], f\"${reference['latex']}$\")\n",
    "                elif reference['type'] == 'figure':\n",
    "                    text = text.replace(span['text'], '') #f\"Figure: {reference['caption']}\")\n",
    "                elif reference['type'] == 'table':\n",
    "                    text = text.replace(span['text'], '') #f\"Table: {reference['caption']}\")\n",
    "                else:\n",
    "                    raise Exception(f\"PROBLEM: Unhandled reference type: {reference}\")\n",
    "\n",
    "        if replace_objects and len(section['cite_spans']) >= 1:\n",
    "            for span in section['cite_spans']:\n",
    "                ref = span['ref_id']\n",
    "                text = text.replace(ref, '')\n",
    "        \n",
    "        #print(text)\n",
    "        sec_name = f\"{section['sec_number']}: {section['section']}\"\n",
    "        if sec_name == prev_sec_name:\n",
    "            sec_name = None\n",
    "        else:\n",
    "            prev_sec_name = sec_name\n",
    "        #print(sec_name, prev_sec_name)\n",
    "\n",
    "        # remove sections which are shorter than 100 characters\n",
    "        # - should remove most almost empty sections such as faultly included titles\n",
    "        #   author information, formulas, etc.\n",
    "        if len(text) > 150:\n",
    "            sections.append((strip_clean(sec_name), strip_clean(text)))\n",
    "    return sections\n"
   ]
  },
  {
   "cell_type": "code",
   "execution_count": 6,
   "id": "8a2288f9-f912-4c28-b584-bdbec38d8bbd",
   "metadata": {},
   "outputs": [],
   "source": [
    "def create_md(json_obj, target_dir: str, filename: str) -> str:\n",
    "    authors = get_authors(json_obj)\n",
    "    title = get_title(json_obj)\n",
    "    abstract = get_abstract(json_obj)\n",
    "    journal = get_journal_ref(json_obj)\n",
    "    doi = get_doi(json_obj)\n",
    "    content = get_content(json_obj, replace_objects=True)\n",
    "\n",
    "    with open(os.path.join(target_dir, filename), 'w') as f:\n",
    "        f.write(f\"# {title}\\n\")\n",
    "        f.write(f\"## Authors\\n{authors}\\n\")\n",
    "        f.write(f\"## Published in\\n{journal}\\n\")\n",
    "        f.write(f\"## DOI\\n{doi}\\n\")\n",
    "        f.write(f\"## Abstract\\n{abstract}\\n\")\n",
    "        f.write(f\"## Content\\n\")\n",
    "        for section in content: \n",
    "            sec_name = section[0]\n",
    "            sec_content = section[1]\n",
    "            if sec_name is not None:\n",
    "                f.write(f\"### {sec_name}\\n\")\n",
    "            f.write(f\"{sec_content}\\n\")\n",
    "        "
   ]
  },
  {
   "cell_type": "code",
   "execution_count": 7,
   "id": "671d52a6-076f-4ed4-bfd6-57b466dc0946",
   "metadata": {},
   "outputs": [
    {
     "name": "stdout",
     "output_type": "stream",
     "text": [
      "Total number of jsonl files to be processed: 5599\n"
     ]
    }
   ],
   "source": [
    "if FILES_IN_TAR is None:\n",
    "    FILES_IN_TAR = get_num_files_in_tar(filename)\n",
    "total_jsonl_files = min(MAX_FILES if MAX_FILES is not None else 1e24, FILES_IN_TAR)\n",
    "\n",
    "print(f\"Total number of jsonl files to be processed: {total_jsonl_files}\")\n"
   ]
  },
  {
   "cell_type": "code",
   "execution_count": 8,
   "id": "88d5c43b-f995-4346-93f4-b8a0b3a2221d",
   "metadata": {},
   "outputs": [
    {
     "name": "stderr",
     "output_type": "stream",
     "text": [
      "100%|██████████| 5599/5599 [28:01<00:00,  3.33it/s]  \n"
     ]
    }
   ],
   "source": [
    "count = 0\n",
    "for json_string in tqdm(get_jsonl_members(filename, MAX_FILES), total=total_jsonl_files):\n",
    "    lines = json_string.split(b'\\n')\n",
    "    for line in lines:\n",
    "        if len(line) == 0:\n",
    "            continue\n",
    "        json_obj = extract_from_json(line)\n",
    "        create_md(json_obj, target_dir=md_target_dir, filename=f\"doc_{count:08d}.md\")\n",
    "\n",
    "        count += 1"
   ]
  },
  {
   "cell_type": "code",
   "execution_count": null,
   "id": "eccece89-2241-4fea-bddc-91fdc71776ef",
   "metadata": {},
   "outputs": [],
   "source": []
  },
  {
   "cell_type": "code",
   "execution_count": null,
   "id": "74e3f94c-4264-410c-8a04-f5231e952326",
   "metadata": {},
   "outputs": [],
   "source": []
  }
 ],
 "metadata": {
  "kernelspec": {
   "display_name": "Capella GPU Kernel LLM",
   "language": "python",
   "name": "capella_gpu_kernel_llm"
  },
  "language_info": {
   "codemirror_mode": {
    "name": "ipython",
    "version": 3
   },
   "file_extension": ".py",
   "mimetype": "text/x-python",
   "name": "python",
   "nbconvert_exporter": "python",
   "pygments_lexer": "ipython3",
   "version": "3.11.3"
  }
 },
 "nbformat": 4,
 "nbformat_minor": 5
}
